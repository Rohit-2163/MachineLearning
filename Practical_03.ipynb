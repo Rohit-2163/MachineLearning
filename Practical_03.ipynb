{
 "cells": [
  {
   "cell_type": "raw",
   "id": "30668cf3-1292-493f-8006-cebe758d0c63",
   "metadata": {},
   "source": [
    "3. Create, initialize and display simple variables and simple strings and use simple formatting for\n",
    "variable."
   ]
  },
  {
   "cell_type": "markdown",
   "id": "2cee9ae0-f380-493b-9a8f-9286d33e8e51",
   "metadata": {},
   "source": [
    "<h3 style = \"color : green\"><center><bold>CODE</bold></center></h3>"
   ]
  },
  {
   "cell_type": "code",
   "execution_count": 1,
   "id": "be892bd6-89f1-4e8c-a26f-0a045c1b915a",
   "metadata": {},
   "outputs": [
    {
     "name": "stdout",
     "output_type": "stream",
     "text": [
      "Name: Jhon Doe\n",
      "Age: 22\n",
      "Height: 1.75 meters\n"
     ]
    }
   ],
   "source": [
    "# Creating and initializing variables\n",
    "name = \"Jhon Doe\"\n",
    "age = 22\n",
    "height = 1.75\n",
    "\n",
    "# Displaying variables and strings with formatting\n",
    "print(\"Name: {}\".format(name))\n",
    "print(\"Age: {}\".format(age))\n",
    "print(\"Height: {:.2f} meters\".format(height))\n"
   ]
  },
  {
   "cell_type": "code",
   "execution_count": null,
   "id": "87c3b501-3d2b-4a7c-8202-3fbec5ad538c",
   "metadata": {},
   "outputs": [],
   "source": []
  },
  {
   "cell_type": "code",
   "execution_count": null,
   "id": "42d2550f-87cc-416b-a98a-65406433ec5a",
   "metadata": {},
   "outputs": [],
   "source": []
  }
 ],
 "metadata": {
  "kernelspec": {
   "display_name": "Python 3 (ipykernel)",
   "language": "python",
   "name": "python3"
  },
  "language_info": {
   "codemirror_mode": {
    "name": "ipython",
    "version": 3
   },
   "file_extension": ".py",
   "mimetype": "text/x-python",
   "name": "python",
   "nbconvert_exporter": "python",
   "pygments_lexer": "ipython3",
   "version": "3.11.4"
  }
 },
 "nbformat": 4,
 "nbformat_minor": 5
}
