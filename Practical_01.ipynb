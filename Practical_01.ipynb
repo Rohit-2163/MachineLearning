{
 "cells": [
  {
   "cell_type": "code",
   "execution_count": 4,
   "id": "4f0d06a7-0fc7-4a65-b0cb-0a479499ecc5",
   "metadata": {},
   "outputs": [
    {
     "name": "stdin",
     "output_type": "stream",
     "text": [
      "Enter First Number  :  10\n",
      "Enter Second Number  :  14\n"
     ]
    },
    {
     "name": "stdout",
     "output_type": "stream",
     "text": [
      "\n",
      "\n",
      "Addition :  24\n",
      "Subtraction :  -4\n",
      "Multiplication :  140\n",
      "Division :  0.7143\n",
      "Interger Division :  0\n",
      "Exponentiation :  100000000000000\n"
     ]
    }
   ],
   "source": [
    "num1 = int(input(\"Enter First Number  : \"))\n",
    "num2 = int(input(\"Enter Second Number  : \"))\n",
    "\n",
    "add = num1 + num2 \n",
    "sub = num1 - num2\n",
    "mul = num1 * num2\n",
    "div = round((num1 / num2),4)\n",
    "int_div = num1 // num2\n",
    "exp = round(pow(num1,num2),4)\n",
    "\n",
    "print('\\n')\n",
    "print(\"Addition : \",add)\n",
    "print(\"Subtraction : \",sub)\n",
    "print(\"Multiplication : \",mul)\n",
    "print(\"Division : \",div)\n",
    "print(\"Interger Division : \",int_div)\n",
    "print(\"Exponentiation : \",exp)"
   ]
  },
  {
   "cell_type": "code",
   "execution_count": null,
   "id": "22cc7194-da78-4f9f-b042-60e414b5365a",
   "metadata": {},
   "outputs": [],
   "source": []
  }
 ],
 "metadata": {
  "kernelspec": {
   "display_name": "Python 3 (ipykernel)",
   "language": "python",
   "name": "python3"
  },
  "language_info": {
   "codemirror_mode": {
    "name": "ipython",
    "version": 3
   },
   "file_extension": ".py",
   "mimetype": "text/x-python",
   "name": "python",
   "nbconvert_exporter": "python",
   "pygments_lexer": "ipython3",
   "version": "3.11.4"
  }
 },
 "nbformat": 4,
 "nbformat_minor": 5
}
