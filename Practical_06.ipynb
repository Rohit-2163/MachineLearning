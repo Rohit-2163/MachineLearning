{
 "cells": [
  {
   "cell_type": "raw",
   "id": "127dee7f-6a45-4b36-9c76-01cc3096c273",
   "metadata": {},
   "source": [
    "6. Perform basic operations on matrices (like addition, subtraction, multiplication) and display\r\n",
    "specific rows or columns of the matrix."
   ]
  },
  {
   "cell_type": "markdown",
   "id": "0b624468-0dc3-416c-9aff-70e61b77422c",
   "metadata": {},
   "source": [
    "<h3 style = \"color : green\"><center><bold>CODE</bold></center></h3>"
   ]
  },
  {
   "cell_type": "code",
   "execution_count": 1,
   "id": "65ce2b4e-ee0c-4c89-b042-d1e19db09f09",
   "metadata": {},
   "outputs": [
    {
     "name": "stdout",
     "output_type": "stream",
     "text": [
      "First Matrix : \n",
      " [[8 4 4 9]\n",
      " [2 6 1 8]\n",
      " [0 6 7 8]]\n",
      "\n",
      "Second Matrix : \n",
      " [[5 4 5 0]\n",
      " [4 6 9 0]\n",
      " [4 2 9 2]]\n",
      "\n",
      "Matrix Multiplication : \n",
      " [[40 16 20  0]\n",
      " [ 8 36  9  0]\n",
      " [ 0 12 63 16]]\n",
      "\n",
      "Displaying Specific Rows of Matrix : \n",
      " [[40 16 20  0]\n",
      " [ 8 36  9  0]]\n",
      "\n",
      "Displaying Specific Columns of Matrix : \n",
      " [[20  0]\n",
      " [ 9  0]\n",
      " [63 16]]\n",
      "\n",
      "Matrix Addition : \n",
      " [[13  8  9  9]\n",
      " [ 6 12 10  8]\n",
      " [ 4  8 16 10]]\n",
      "\n",
      "Displaying Specific Rows of Matrix : \n",
      " [[13  8  9  9]\n",
      " [ 6 12 10  8]]\n",
      "\n",
      "Displaying Specific Columns of Matrix : \n",
      " [[16]\n",
      " [36]\n",
      " [12]]\n",
      "\n",
      "Matrix Subtraction : \n",
      " [[ 3  0 -1  9]\n",
      " [-2  0 -8  8]\n",
      " [-4  4 -2  6]]\n",
      "\n",
      "Displaying Specific Rows of Matrix : \n",
      " [[ 3  0 -1  9]\n",
      " [-2  0 -8  8]]\n",
      "\n",
      "Displaying Specific Columns of Matrix : \n",
      " [[40]\n",
      " [ 8]\n",
      " [ 0]]\n"
     ]
    }
   ],
   "source": [
    "import numpy as np\n",
    "\n",
    "mat_1 = np.array(np.random.randint(10,size=(3,4)))\n",
    "mat_2 = np.array(np.random.randint(10,size=(3,4)))\n",
    "\n",
    "print(\"First Matrix : \\n\" , mat_1)\n",
    "print(\"\\nSecond Matrix : \\n\",mat_2)\n",
    "\n",
    "#Multiplicaton\n",
    "\n",
    "mul_mat = mat_1 * mat_2\n",
    "print(\"\\nMatrix Multiplication : \\n\",mul_mat)\n",
    "print(\"\\nDisplaying Specific Rows of Matrix : \\n\" ,mul_mat[:2,:])\n",
    "print(\"\\nDisplaying Specific Columns of Matrix : \\n\" ,mul_mat[:,2:4])\n",
    "\n",
    "#Addition\n",
    "add_mat = mat_1 + mat_2\n",
    "print(\"\\nMatrix Addition : \\n\",add_mat)\n",
    "print(\"\\nDisplaying Specific Rows of Matrix : \\n\" ,add_mat[:2,:])\n",
    "print(\"\\nDisplaying Specific Columns of Matrix : \\n\" ,mul_mat[:,1:2])\n",
    "\n",
    "#Subtraction\n",
    "sub_mat = mat_1 - mat_2\n",
    "print(\"\\nMatrix Subtraction : \\n\",sub_mat)\n",
    "print(\"\\nDisplaying Specific Rows of Matrix : \\n\" ,sub_mat[:2,:])\n",
    "print(\"\\nDisplaying Specific Columns of Matrix : \\n\" ,mul_mat[:,:1])\n"
   ]
  },
  {
   "cell_type": "markdown",
   "id": "8737e8be-9c5c-4b8c-b432-0345c7efc6dc",
   "metadata": {},
   "source": []
  }
 ],
 "metadata": {
  "kernelspec": {
   "display_name": "Python 3 (ipykernel)",
   "language": "python",
   "name": "python3"
  },
  "language_info": {
   "codemirror_mode": {
    "name": "ipython",
    "version": 3
   },
   "file_extension": ".py",
   "mimetype": "text/x-python",
   "name": "python",
   "nbconvert_exporter": "python",
   "pygments_lexer": "ipython3",
   "version": "3.11.4"
  }
 },
 "nbformat": 4,
 "nbformat_minor": 5
}
