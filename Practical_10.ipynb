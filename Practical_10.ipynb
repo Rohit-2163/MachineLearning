{
 "cells": [
  {
   "cell_type": "raw",
   "id": "a0d0fc3a-c369-42ed-8fad-d4d3640d6953",
   "metadata": {},
   "source": [
    "10. Use conditional statements and different type of loops based on simple example/s."
   ]
  },
  {
   "cell_type": "code",
   "execution_count": 6,
   "id": "8201062e-26ab-4cf0-a684-70759d1c66e4",
   "metadata": {},
   "outputs": [
    {
     "name": "stdin",
     "output_type": "stream",
     "text": [
      "Enter a Number :  30\n"
     ]
    },
    {
     "name": "stdout",
     "output_type": "stream",
     "text": [
      "\n",
      "Enter 1 for Even Numbers and 2 for Odd Number : \n"
     ]
    },
    {
     "name": "stdin",
     "output_type": "stream",
     "text": [
      "\n",
      "Enter 1/2 :  2\n"
     ]
    },
    {
     "name": "stdout",
     "output_type": "stream",
     "text": [
      "\n",
      "List of Odd Number :  [1, 3, 5, 7, 9, 11, 13, 15, 17, 19, 21, 23, 25, 27, 29]\n"
     ]
    }
   ],
   "source": [
    "num = int(input(\"Enter a Number : \"))\n",
    "\n",
    "print(\"\\nEnter 1 for Even Numbers and 2 for Odd Number : \")\n",
    "case = int(input(\"\\nEnter 1/2 : \"))\n",
    "\n",
    "even_no = []\n",
    "odd_no = []\n",
    "\n",
    "if case == 1:\n",
    "    for i in range(num):\n",
    "        if(i % 2 == 0):\n",
    "            even_no.append(i)\n",
    "        else:\n",
    "            pass\n",
    "    print(\"\\nList of Even Number : \",even_no)\n",
    "\n",
    "elif case == 2:\n",
    "    for i in range(num):\n",
    "        if(i % 2 != 0):\n",
    "            odd_no.append(i)\n",
    "        else:\n",
    "            pass\n",
    "    print(\"\\nList of Odd Number : \",odd_no)"
   ]
  },
  {
   "cell_type": "code",
   "execution_count": null,
   "id": "c58918fa-88a4-4e07-987a-88c05a4d5192",
   "metadata": {},
   "outputs": [],
   "source": []
  }
 ],
 "metadata": {
  "kernelspec": {
   "display_name": "Python 3 (ipykernel)",
   "language": "python",
   "name": "python3"
  },
  "language_info": {
   "codemirror_mode": {
    "name": "ipython",
    "version": 3
   },
   "file_extension": ".py",
   "mimetype": "text/x-python",
   "name": "python",
   "nbconvert_exporter": "python",
   "pygments_lexer": "ipython3",
   "version": "3.11.4"
  }
 },
 "nbformat": 4,
 "nbformat_minor": 5
}
