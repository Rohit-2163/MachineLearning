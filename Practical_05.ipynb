{
 "cells": [
  {
   "cell_type": "raw",
   "id": "9b83bc7f-08b7-4237-801c-08956a78d9d9",
   "metadata": {},
   "source": [
    "5. Use command to compute the size of a matrix, size/length of a particular row/column, load\n",
    "data from a text file, store matrix data to a text file, finding out variables and their features in the\n",
    "current scope."
   ]
  },
  {
   "cell_type": "code",
   "execution_count": 1,
   "id": "680e58a1-1349-41fe-b77a-acb5f7e46f88",
   "metadata": {},
   "outputs": [],
   "source": [
    "import numpy as np\n",
    "import pandas as pd"
   ]
  },
  {
   "cell_type": "code",
   "execution_count": 14,
   "id": "f95f1e78-4af5-42c0-b268-790bec00beba",
   "metadata": {},
   "outputs": [
    {
     "name": "stdout",
     "output_type": "stream",
     "text": [
      "Size of matrix :  5\n",
      "Size of First Row of matrix :  5\n",
      "Size of First Column matrix :  3\n"
     ]
    }
   ],
   "source": [
    "matrix = np.array(np.random.rand(3,5))\n",
    "\n",
    "size = matrix.shape\n",
    "row_size = len(matrix[0])\n",
    "col_size = len(matrix[:,0])\n",
    "\n",
    "print(\"Size of matrix : \",size1)\n",
    "print(\"Size of First Row of matrix : \",row_size)\n",
    "print(\"Size of First Column matrix : \",col_size)"
   ]
  },
  {
   "cell_type": "code",
   "execution_count": 16,
   "id": "c448a166-abf2-4e17-b5b1-c6af3ed2ef86",
   "metadata": {},
   "outputs": [
    {
     "name": "stdout",
     "output_type": "stream",
     "text": [
      "Data loaded from file :\n",
      "\n",
      "\"Hello \"\n",
      "\"This Text is From data.txt\"\n",
      "\"Thankyou\".\n"
     ]
    }
   ],
   "source": [
    "#Load data From Text File\n",
    "with open('data.txt', 'r') as file:\n",
    "    data = file.read()\n",
    "\n",
    "print(\"Data loaded from file :\\n\")\n",
    "print(data)\n"
   ]
  },
  {
   "cell_type": "code",
   "execution_count": 18,
   "id": "4c61ae25-7b5d-43b1-aabc-3653b0594e20",
   "metadata": {},
   "outputs": [
    {
     "name": "stdout",
     "output_type": "stream",
     "text": [
      "Matrix data stored to file 'matrix_data.txt'\n"
     ]
    }
   ],
   "source": [
    "#Store matrix to txt file\n",
    "\n",
    "# Assuming matrix is defined\n",
    "matrix = np.array([[1, 2, 3],\n",
    "                   [4, 5, 6],\n",
    "                   [7, 8, 9]])\n",
    "\n",
    "# Storing matrix data to a text file named 'matrix_data.txt'\n",
    "np.savetxt('matrix_data.txt', matrix,fmt='%d')\n",
    "\n",
    "print(\"Matrix data stored to file 'matrix_data.txt'\")"
   ]
  },
  {
   "cell_type": "code",
   "execution_count": null,
   "id": "c482e1d0-38cd-4f80-9f44-ffd67f25771d",
   "metadata": {},
   "outputs": [],
   "source": []
  }
 ],
 "metadata": {
  "kernelspec": {
   "display_name": "Python 3 (ipykernel)",
   "language": "python",
   "name": "python3"
  },
  "language_info": {
   "codemirror_mode": {
    "name": "ipython",
    "version": 3
   },
   "file_extension": ".py",
   "mimetype": "text/x-python",
   "name": "python",
   "nbconvert_exporter": "python",
   "pygments_lexer": "ipython3",
   "version": "3.11.4"
  }
 },
 "nbformat": 4,
 "nbformat_minor": 5
}
