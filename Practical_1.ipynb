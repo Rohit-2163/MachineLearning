{
 "cells": [
  {
   "cell_type": "code",
   "execution_count": 5,
   "id": "97c829c5-6ae1-4a7f-9658-ffde10e53ec2",
   "metadata": {},
   "outputs": [],
   "source": [
    "import pandas as pd\n",
    "import seaborn as sns"
   ]
  },
  {
   "cell_type": "code",
   "execution_count": 14,
   "id": "eda02d0e-cc5d-428a-9d60-c34b68b7de39",
   "metadata": {},
   "outputs": [],
   "source": [
    "from sklearn.model_selection import train_test_split\n",
    "from sklearn.naive_bayes import GaussianNB\n",
    "from sklearn import metrics"
   ]
  },
  {
   "cell_type": "code",
   "execution_count": 7,
   "id": "5f34576c-c6f3-4d91-a687-d6b9ed6313a7",
   "metadata": {},
   "outputs": [
    {
     "data": {
      "text/html": [
       "<div>\n",
       "<style scoped>\n",
       "    .dataframe tbody tr th:only-of-type {\n",
       "        vertical-align: middle;\n",
       "    }\n",
       "\n",
       "    .dataframe tbody tr th {\n",
       "        vertical-align: top;\n",
       "    }\n",
       "\n",
       "    .dataframe thead th {\n",
       "        text-align: right;\n",
       "    }\n",
       "</style>\n",
       "<table border=\"1\" class=\"dataframe\">\n",
       "  <thead>\n",
       "    <tr style=\"text-align: right;\">\n",
       "      <th></th>\n",
       "      <th>sepal_length</th>\n",
       "      <th>sepal_width</th>\n",
       "      <th>petal_length</th>\n",
       "      <th>petal_width</th>\n",
       "      <th>species</th>\n",
       "    </tr>\n",
       "  </thead>\n",
       "  <tbody>\n",
       "    <tr>\n",
       "      <th>0</th>\n",
       "      <td>5.1</td>\n",
       "      <td>3.5</td>\n",
       "      <td>1.4</td>\n",
       "      <td>0.2</td>\n",
       "      <td>setosa</td>\n",
       "    </tr>\n",
       "    <tr>\n",
       "      <th>1</th>\n",
       "      <td>4.9</td>\n",
       "      <td>3.0</td>\n",
       "      <td>1.4</td>\n",
       "      <td>0.2</td>\n",
       "      <td>setosa</td>\n",
       "    </tr>\n",
       "    <tr>\n",
       "      <th>2</th>\n",
       "      <td>4.7</td>\n",
       "      <td>3.2</td>\n",
       "      <td>1.3</td>\n",
       "      <td>0.2</td>\n",
       "      <td>setosa</td>\n",
       "    </tr>\n",
       "    <tr>\n",
       "      <th>3</th>\n",
       "      <td>4.6</td>\n",
       "      <td>3.1</td>\n",
       "      <td>1.5</td>\n",
       "      <td>0.2</td>\n",
       "      <td>setosa</td>\n",
       "    </tr>\n",
       "    <tr>\n",
       "      <th>4</th>\n",
       "      <td>5.0</td>\n",
       "      <td>3.6</td>\n",
       "      <td>1.4</td>\n",
       "      <td>0.2</td>\n",
       "      <td>setosa</td>\n",
       "    </tr>\n",
       "  </tbody>\n",
       "</table>\n",
       "</div>"
      ],
      "text/plain": [
       "   sepal_length  sepal_width  petal_length  petal_width species\n",
       "0           5.1          3.5           1.4          0.2  setosa\n",
       "1           4.9          3.0           1.4          0.2  setosa\n",
       "2           4.7          3.2           1.3          0.2  setosa\n",
       "3           4.6          3.1           1.5          0.2  setosa\n",
       "4           5.0          3.6           1.4          0.2  setosa"
      ]
     },
     "execution_count": 7,
     "metadata": {},
     "output_type": "execute_result"
    }
   ],
   "source": [
    "df = sns.load_dataset('iris')\n",
    "df.head()"
   ]
  },
  {
   "cell_type": "code",
   "execution_count": 38,
   "id": "2ffaa32a-e54a-494e-8819-8efade59cbd8",
   "metadata": {},
   "outputs": [],
   "source": [
    "x = df.iloc[:,:-1]\n",
    "y = df.iloc[:,-1]"
   ]
  },
  {
   "cell_type": "code",
   "execution_count": 39,
   "id": "27526d44-4d19-4fdc-b6a2-1bd63cb0a63f",
   "metadata": {},
   "outputs": [
    {
     "name": "stdout",
     "output_type": "stream",
     "text": [
      "93.33333333333333\n",
      "128     virginica\n",
      "109     virginica\n",
      "121     virginica\n",
      "139     virginica\n",
      "76     versicolor\n",
      "123     virginica\n",
      "126     virginica\n",
      "132     virginica\n",
      "40         setosa\n",
      "21         setosa\n",
      "1          setosa\n",
      "133     virginica\n",
      "105     virginica\n",
      "127     virginica\n",
      "69     versicolor\n",
      "107     virginica\n",
      "81     versicolor\n",
      "41         setosa\n",
      "122     virginica\n",
      "22         setosa\n",
      "66     versicolor\n",
      "44         setosa\n",
      "33         setosa\n",
      "9          setosa\n",
      "129     virginica\n",
      "131     virginica\n",
      "77     versicolor\n",
      "64     versicolor\n",
      "38         setosa\n",
      "134     virginica\n",
      "87     versicolor\n",
      "124     virginica\n",
      "42         setosa\n",
      "144     virginica\n",
      "26         setosa\n",
      "136     virginica\n",
      "101     virginica\n",
      "16         setosa\n",
      "63     versicolor\n",
      "62     versicolor\n",
      "149     virginica\n",
      "25         setosa\n",
      "19         setosa\n",
      "75     versicolor\n",
      "147     virginica\n",
      "Name: species, dtype: object\n",
      "['virginica' 'virginica' 'virginica' 'virginica' 'versicolor' 'virginica'\n",
      " 'virginica' 'virginica' 'setosa' 'setosa' 'setosa' 'versicolor'\n",
      " 'virginica' 'virginica' 'versicolor' 'virginica' 'versicolor' 'setosa'\n",
      " 'virginica' 'setosa' 'versicolor' 'setosa' 'setosa' 'setosa' 'virginica'\n",
      " 'virginica' 'virginica' 'versicolor' 'setosa' 'versicolor' 'versicolor'\n",
      " 'virginica' 'setosa' 'virginica' 'setosa' 'virginica' 'virginica'\n",
      " 'setosa' 'versicolor' 'versicolor' 'virginica' 'setosa' 'setosa'\n",
      " 'versicolor' 'virginica']\n"
     ]
    }
   ],
   "source": [
    "x_train,x_test,y_train,y_test = train_test_split(x,y,test_size = 0.3)\n",
    "\n",
    "classifer = GaussianNB()\n",
    "\n",
    "classifer.fit(x_train,y_train)\n",
    "y_pred = classifer.predict(x_test)\n",
    "\n",
    "print(metrics.accuracy_score(y_test,y_pred)*100)\n",
    "print(y_test)\n",
    "print(y_pred)"
   ]
  },
  {
   "cell_type": "code",
   "execution_count": null,
   "id": "0945127b-0120-4552-8450-95db3d338373",
   "metadata": {},
   "outputs": [],
   "source": []
  }
 ],
 "metadata": {
  "kernelspec": {
   "display_name": "Python 3 (ipykernel)",
   "language": "python",
   "name": "python3"
  },
  "language_info": {
   "codemirror_mode": {
    "name": "ipython",
    "version": 3
   },
   "file_extension": ".py",
   "mimetype": "text/x-python",
   "name": "python",
   "nbconvert_exporter": "python",
   "pygments_lexer": "ipython3",
   "version": "3.11.4"
  }
 },
 "nbformat": 4,
 "nbformat_minor": 5
}
