{
 "cells": [
  {
   "cell_type": "raw",
   "id": "1bebef2e-5cc1-4853-ad24-47375203fd9c",
   "metadata": {},
   "source": [
    "Perform elementary logical operations in Octave/MATLAB (like OR, AND, Checking for\n",
    "Equality, NOT, XOR)."
   ]
  },
  {
   "cell_type": "markdown",
   "id": "f9bcb151-537b-4bf5-a873-aad411c8d8c7",
   "metadata": {},
   "source": [
    "<h3 style = \"color : green\"><center><bold>CODE</bold></center></h3>"
   ]
  },
  {
   "cell_type": "code",
   "execution_count": 6,
   "id": "74f2db1d-70a8-462d-b302-7507969e43f6",
   "metadata": {},
   "outputs": [
    {
     "name": "stdin",
     "output_type": "stream",
     "text": [
      "Enter First Value :  10\n",
      "Enter Second Value :  15\n"
     ]
    },
    {
     "name": "stdout",
     "output_type": "stream",
     "text": [
      "\n",
      "Binary of val1 :  0b1010\n",
      "Binary of val1 :  0b1111\n",
      "\n",
      "AND Operation :  10\n",
      "OR Operation :  15\n",
      "EQUALITY Operation :  False\n",
      "NOT Operation :  False\n",
      "XOR Operation :  5\n"
     ]
    }
   ],
   "source": [
    "val1 = int(input(\"Enter First Value : \" ))\n",
    "val2 = int(input(\"Enter Second Value : \" ))\n",
    "\n",
    "and_opr = val1 & val2\n",
    "or_opr = val1 | val2\n",
    "eql_opr = (val1 == val2)\n",
    "not_opr = not(val1)\n",
    "xor_opr = val1 ^ val2\n",
    "\n",
    "print(\"\\nBinary of val1 : \",bin(val1))\n",
    "print(\"Binary of val1 : \",bin(val2))\n",
    "\n",
    "print(\"\\nAND Operation : \" ,and_opr)\n",
    "print(\"OR Operation : \" ,or_opr)\n",
    "print(\"EQUALITY Operation : \" ,eql_opr)\n",
    "print(\"NOT Operation : \" ,not_opr)\n",
    "print(\"XOR Operation : \" ,xor_opr)"
   ]
  },
  {
   "cell_type": "markdown",
   "id": "05a965f8-d09b-42fe-a9d8-ccce0aa9280a",
   "metadata": {},
   "source": [
    "# "
   ]
  }
 ],
 "metadata": {
  "kernelspec": {
   "display_name": "Python 3 (ipykernel)",
   "language": "python",
   "name": "python3"
  },
  "language_info": {
   "codemirror_mode": {
    "name": "ipython",
    "version": 3
   },
   "file_extension": ".py",
   "mimetype": "text/x-python",
   "name": "python",
   "nbconvert_exporter": "python",
   "pygments_lexer": "ipython3",
   "version": "3.11.4"
  }
 },
 "nbformat": 4,
 "nbformat_minor": 5
}
