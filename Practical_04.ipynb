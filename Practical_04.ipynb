{
 "cells": [
  {
   "cell_type": "markdown",
   "id": "17ebfa13-6c7c-48aa-a70e-6b79376c0ad6",
   "metadata": {},
   "source": [
    "Create/Define single dimension / multi-dimension arrays, and arrays with specific values like\n",
    "array of all ones, all zeros, array with random values within a range, or a diagonal matrix."
   ]
  },
  {
   "cell_type": "code",
   "execution_count": 1,
   "id": "3aa95683-96aa-4fe4-8e5a-342e5b8b2bfa",
   "metadata": {},
   "outputs": [],
   "source": [
    "import numpy as np"
   ]
  },
  {
   "cell_type": "code",
   "execution_count": 16,
   "id": "665a25a0-1121-4198-b42a-1b79593601cc",
   "metadata": {},
   "outputs": [
    {
     "name": "stdout",
     "output_type": "stream",
     "text": [
      "Zero 1-D Array :  [0. 0. 0. 0. 0.]\n",
      "Ones 1-D Array :  [1. 1. 1. 1. 1.]\n",
      "Random 1-D Array :  [ 0.46583408 -0.47685351 -0.04729039 -0.71363148]\n",
      "\n",
      "Zero 2-D Array : \n",
      " [[0. 0. 0. 0. 0.]\n",
      " [0. 0. 0. 0. 0.]\n",
      " [0. 0. 0. 0. 0.]\n",
      " [0. 0. 0. 0. 0.]]\n",
      "\n",
      "Ones 2-D Array : \n",
      " [[1. 1. 1. 1. 1.]\n",
      " [1. 1. 1. 1. 1.]\n",
      " [1. 1. 1. 1. 1.]\n",
      " [1. 1. 1. 1. 1.]\n",
      " [1. 1. 1. 1. 1.]\n",
      " [1. 1. 1. 1. 1.]]\n",
      "\n",
      "Random 2-D Array : \n",
      " [[-2.68362075e-02 -1.21119935e-01  7.25275670e-01 -3.84243165e-01]\n",
      " [ 2.00684896e+00  6.08714970e-01 -7.15201376e-04 -9.24857254e-01]\n",
      " [-2.30573490e-01 -6.62856103e-01 -1.47482224e-02  1.08577568e+00]\n",
      " [ 1.18936165e+00 -4.06803719e-01  2.78240267e-01  8.13573865e-01]]\n",
      "\n",
      "Diagonal Matrix : \n",
      " [[2 0 0 0]\n",
      " [0 5 0 0]\n",
      " [0 0 6 0]\n",
      " [0 0 0 8]]\n"
     ]
    }
   ],
   "source": [
    "#One-D arrays\n",
    "\n",
    "zero_1D = np.zeros(5)\n",
    "ones_1D = np.ones(5)\n",
    "random_1D = np.array(np.random.randn(4))\n",
    "\n",
    "print(\"Zero 1-D Array : \",zero_1D)\n",
    "print(\"Ones 1-D Array : \",ones_1D)\n",
    "print(\"Random 1-D Array : \",random_1D)\n",
    "\n",
    "#2-D array\n",
    "zero_2D = np.zeros((4,5))\n",
    "ones_2D = np.ones((6,5))\n",
    "random_2D = np.array(np.random.randn(4,4))\n",
    "dia_mat = np.diag([2,5,6,8])\n",
    "\n",
    "print(\"\\nZero 2-D Array : \\n\",zero_2D)\n",
    "print(\"\\nOnes 2-D Array : \\n\",ones_2D)\n",
    "print(\"\\nRandom 2-D Array : \\n\",random_2D)\n",
    "print(\"\\nDiagonal Matrix : \\n\" ,dia_mat)"
   ]
  },
  {
   "cell_type": "code",
   "execution_count": null,
   "id": "c490f824-87ac-4d74-8dde-b6035e90eaf6",
   "metadata": {},
   "outputs": [],
   "source": []
  }
 ],
 "metadata": {
  "kernelspec": {
   "display_name": "Python 3 (ipykernel)",
   "language": "python",
   "name": "python3"
  },
  "language_info": {
   "codemirror_mode": {
    "name": "ipython",
    "version": 3
   },
   "file_extension": ".py",
   "mimetype": "text/x-python",
   "name": "python",
   "nbconvert_exporter": "python",
   "pygments_lexer": "ipython3",
   "version": "3.11.4"
  }
 },
 "nbformat": 4,
 "nbformat_minor": 5
}
